{
 "cells": [
  {
   "cell_type": "markdown",
   "id": "b1c2c6d2-dddb-4264-9271-e31a6afb3a26",
   "metadata": {},
   "source": [
    "# Heart attack prediction"
   ]
  },
  {
   "cell_type": "code",
   "execution_count": 14,
   "id": "985aee30-ce8d-4a0d-8811-5967a19401ae",
   "metadata": {},
   "outputs": [],
   "source": [
    "import pandas as pd\n",
    "from sklearn.model_selection import train_test_split\n",
    "from sklearn.ensemble import RandomForestClassifier\n",
    "from sklearn.metrics import accuracy_score\n",
    "from sklearn.impute import SimpleImputer\n",
    "import numpy as np"
   ]
  },
  {
   "cell_type": "code",
   "execution_count": 20,
   "id": "e3f1f11a-4cc2-4dac-93d9-3795e923c073",
   "metadata": {},
   "outputs": [],
   "source": [
    "# 1. Charger le fichier train.csv\n",
    "\n",
    "train_data = pd.read_csv('train.csv')\n",
    "\n",
    "# Colonnes d'intérêt\n",
    "columns = [\"_RFHLTH\", \"_PHYS14D\", \"_MENT14D\", \"_HLTHPLN\", \"_HCVU652\", \n",
    "           \"_TOTINDA\", \"_EXTETH3\", \"_ALTETH3\", \"_DENVST3\", \"_LTASTH1\", \n",
    "           \"_CASTHM1\", \"_ASTHMS1\", \"_DRDXAR2\", \"_RACEPR1\", \"_SEX\", \"_AGEG5YR\", \"TARGET\"]\n",
    "\n",
    "# Extraction des colonnes\n",
    "train_data = train_data[columns]"
   ]
  },
  {
   "cell_type": "code",
   "execution_count": 21,
   "id": "9bfc03f4-26ab-44b7-b902-333902071ecc",
   "metadata": {},
   "outputs": [],
   "source": [
    "# 2. Nettoyage des données : remplacer les NaN par la moyenne (ou une autre stratégie)\n",
    "imputer = SimpleImputer(strategy='mean')  # Utiliser la moyenne pour les valeurs manquantes\n",
    "train_data_cleaned = pd.DataFrame(imputer.fit_transform(train_data), columns=columns)\n",
    "\n",
    "# Séparer les données en variables explicatives (X) et cible (y)\n",
    "X = train_data_cleaned.drop(\"TARGET\", axis=1)\n",
    "y = train_data_cleaned[\"TARGET\"]\n",
    "\n",
    "# Diviser en ensemble d'entraînement et de validation\n",
    "X_train, X_val, y_train, y_val = train_test_split(X, y, test_size=0.2, random_state=42)"
   ]
  },
  {
   "cell_type": "code",
   "execution_count": 22,
   "id": "1b3368ef-12bf-4f8b-b2b1-2c3018d78085",
   "metadata": {},
   "outputs": [
    {
     "name": "stdout",
     "output_type": "stream",
     "text": [
      "Accuracy sur l'ensemble de validation: 0.90\n"
     ]
    }
   ],
   "source": [
    "# 3. Entraîner un modèle (Random Forest Classifier)\n",
    "model = RandomForestClassifier(random_state=42)\n",
    "model.fit(X_train, y_train)\n",
    "\n",
    "# Évaluer le modèle sur l'ensemble de validation\n",
    "y_pred = model.predict(X_val)\n",
    "accuracy = accuracy_score(y_val, y_pred)\n",
    "print(f\"Accuracy sur l'ensemble de validation: {accuracy:.2f}\")"
   ]
  },
  {
   "cell_type": "code",
   "execution_count": 25,
   "id": "d5396b71-f765-4917-aaa9-027f76dfd7c5",
   "metadata": {},
   "outputs": [],
   "source": [
    "# 4. Charger le fichier test.csv\n",
    "\n",
    "test_data = pd.read_csv('test.csv')\n",
    "\n",
    "# Conserver uniquement les colonnes d'intérêt\n",
    "test_data = test_data[[\"_RFHLTH\", \"_PHYS14D\", \"_MENT14D\", \"_HLTHPLN\", \"_HCVU652\", \n",
    "                       \"_TOTINDA\", \"_EXTETH3\", \"_ALTETH3\", \"_DENVST3\", \"_LTASTH1\", \n",
    "                       \"_CASTHM1\", \"_ASTHMS1\", \"_DRDXAR2\", \"_RACEPR1\", \"_SEX\", \"_AGEG5YR\", \"ID\"]]\n",
    "\n",
    "# Nettoyer les données (remplacer les NaN)\n",
    "# test_data_cleaned = pd.DataFrame(imputer.transform(test_data.drop(\"ID\", axis=1)), columns=columns[:-1])\n",
    "test_data_cleaned = test_data.drop(\"ID\", axis=1)"
   ]
  },
  {
   "cell_type": "code",
   "execution_count": 26,
   "id": "944cc3b3-30a7-4b2c-b0a4-63da4605a77f",
   "metadata": {},
   "outputs": [
    {
     "name": "stdout",
     "output_type": "stream",
     "text": [
      "Les prédictions ont été enregistrées dans le fichier prediction.csv.\n"
     ]
    }
   ],
   "source": [
    "# 5. Effectuer les prédictions\n",
    "test_predictions = model.predict(test_data_cleaned)\n",
    "\n",
    "# Ajouter les prédictions au dataframe original\n",
    "test_data[\"TARGET\"] = test_predictions\n",
    "\n",
    "# Exporter les résultats dans un fichier prediction.csv\n",
    "output_file = 'prediction.csv'\n",
    "test_data[[\"ID\", \"TARGET\"]].to_csv(output_file, index=False)\n",
    "\n",
    "print(f\"Les prédictions ont été enregistrées dans le fichier {output_file}.\")"
   ]
  },
  {
   "cell_type": "code",
   "execution_count": null,
   "id": "67aaac45-3607-45e3-b5a4-2d552a34265a",
   "metadata": {},
   "outputs": [],
   "source": []
  }
 ],
 "metadata": {
  "kernelspec": {
   "display_name": "Python 3 (ipykernel)",
   "language": "python",
   "name": "python3"
  },
  "language_info": {
   "codemirror_mode": {
    "name": "ipython",
    "version": 3
   },
   "file_extension": ".py",
   "mimetype": "text/x-python",
   "name": "python",
   "nbconvert_exporter": "python",
   "pygments_lexer": "ipython3",
   "version": "3.12.4"
  }
 },
 "nbformat": 4,
 "nbformat_minor": 5
}
