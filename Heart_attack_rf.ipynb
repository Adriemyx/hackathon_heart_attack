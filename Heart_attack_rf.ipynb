{
 "cells": [
  {
   "cell_type": "markdown",
   "id": "b1c2c6d2-dddb-4264-9271-e31a6afb3a26",
   "metadata": {},
   "source": [
    "# Heart attack prediction"
   ]
  },
  {
   "cell_type": "code",
   "execution_count": 35,
   "id": "f61094ca-6a5e-4414-911c-2b5c2363cec6",
   "metadata": {
    "tags": []
   },
   "outputs": [
    {
     "name": "stdout",
     "output_type": "stream",
     "text": [
      "Defaulting to user installation because normal site-packages is not writeable\n",
      "Collecting xgboost\n",
      "  Downloading xgboost-2.1.2-py3-none-manylinux_2_28_x86_64.whl (153.9 MB)\n",
      "\u001b[2K     \u001b[90m━━━━━━━━━━━━━━━━━━━━━━━━━━━━━━━━━━━━━\u001b[0m \u001b[32m153.9/153.9 MB\u001b[0m \u001b[31m736.2 kB/s\u001b[0m eta \u001b[36m0:00:00\u001b[0m00:01\u001b[0m00:05\u001b[0m\n",
      "\u001b[?25hRequirement already satisfied: numpy in /home/promo25/s.boukezzoula/.local/lib/python3.11/site-packages (from xgboost) (2.0.2)\n",
      "Collecting nvidia-nccl-cu12 (from xgboost)\n",
      "  Downloading nvidia_nccl_cu12-2.23.4-py3-none-manylinux2014_x86_64.whl (199.0 MB)\n",
      "\u001b[2K     \u001b[90m━━━━━━━━━━━━━━━━━━━━━━━━━━━━━━━━━━━━━━━\u001b[0m \u001b[32m199.0/199.0 MB\u001b[0m \u001b[31m1.6 MB/s\u001b[0m eta \u001b[36m0:00:00\u001b[0m00:01\u001b[0m00:03\u001b[0m\n",
      "\u001b[?25hRequirement already satisfied: scipy in /home/promo25/s.boukezzoula/.local/lib/python3.11/site-packages (from xgboost) (1.14.1)\n",
      "Installing collected packages: nvidia-nccl-cu12, xgboost\n",
      "Successfully installed nvidia-nccl-cu12-2.23.4 xgboost-2.1.2\n"
     ]
    }
   ],
   "source": [
    "!pip install xgboost"
   ]
  },
  {
   "cell_type": "code",
   "execution_count": 34,
   "id": "985aee30-ce8d-4a0d-8811-5967a19401ae",
   "metadata": {},
   "outputs": [
    {
     "ename": "ModuleNotFoundError",
     "evalue": "No module named 'xgboost'",
     "output_type": "error",
     "traceback": [
      "\u001b[0;31m---------------------------------------------------------------------------\u001b[0m",
      "\u001b[0;31mModuleNotFoundError\u001b[0m                       Traceback (most recent call last)",
      "\u001b[0;32m/tmp/ipykernel_18051/409142899.py\u001b[0m in \u001b[0;36m<module>\u001b[0;34m\u001b[0m\n\u001b[1;32m      6\u001b[0m \u001b[0;32mimport\u001b[0m \u001b[0mnumpy\u001b[0m \u001b[0;32mas\u001b[0m \u001b[0mnp\u001b[0m\u001b[0;34m\u001b[0m\u001b[0;34m\u001b[0m\u001b[0m\n\u001b[1;32m      7\u001b[0m \u001b[0;34m\u001b[0m\u001b[0m\n\u001b[0;32m----> 8\u001b[0;31m \u001b[0;32mfrom\u001b[0m \u001b[0mxgboost\u001b[0m \u001b[0;32mimport\u001b[0m \u001b[0mXGBClassifier\u001b[0m\u001b[0;34m\u001b[0m\u001b[0;34m\u001b[0m\u001b[0m\n\u001b[0m\u001b[1;32m      9\u001b[0m \u001b[0;32mimport\u001b[0m \u001b[0mxgboost\u001b[0m \u001b[0;32mas\u001b[0m \u001b[0mxgb\u001b[0m\u001b[0;34m\u001b[0m\u001b[0;34m\u001b[0m\u001b[0m\n",
      "\u001b[0;31mModuleNotFoundError\u001b[0m: No module named 'xgboost'"
     ]
    }
   ],
   "source": [
    "import pandas as pd\n",
    "from sklearn.model_selection import train_test_split\n",
    "from sklearn.ensemble import RandomForestClassifier\n",
    "from sklearn.metrics import f1_score\n",
    "from sklearn.impute import SimpleImputer\n",
    "import numpy as np\n",
    "\n",
    "from xgboost import XGBClassifier\n",
    "import xgboost as xgb"
   ]
  },
  {
   "cell_type": "code",
   "execution_count": 23,
   "id": "e3f1f11a-4cc2-4dac-93d9-3795e923c073",
   "metadata": {},
   "outputs": [
    {
     "name": "stdout",
     "output_type": "stream",
     "text": [
      "        _RFHLTH  _PHYS14D  _MENT14D  _HLTHPLN  _TOTINDA  _EXTETH3  _ALTETH3  \\\n",
      "0           1.0       2.0       2.0       1.0       1.0       2.0       1.0   \n",
      "1           2.0       3.0       3.0       1.0       1.0       1.0       NaN   \n",
      "2           1.0       1.0       1.0       1.0       1.0       1.0       NaN   \n",
      "3           1.0       1.0       1.0       1.0       1.0       2.0       NaN   \n",
      "4           1.0       1.0       2.0       1.0       2.0       1.0       NaN   \n",
      "...         ...       ...       ...       ...       ...       ...       ...   \n",
      "224995      1.0       1.0       1.0       1.0       1.0       1.0       1.0   \n",
      "224996      1.0       3.0       3.0       1.0       2.0       2.0       NaN   \n",
      "224997      1.0       1.0       1.0       1.0       1.0       1.0       NaN   \n",
      "224998      1.0       2.0       1.0       1.0       1.0       9.0       NaN   \n",
      "224999      1.0       1.0       1.0       1.0       1.0       2.0       1.0   \n",
      "\n",
      "        _DENVST3  _LTASTH1  _CASTHM1  _ASTHMS1  _DRDXAR2  _RACEPR1  _SEX  \\\n",
      "0            1.0       1.0       1.0       3.0       1.0       1.0   2.0   \n",
      "1            1.0       1.0       1.0       3.0       1.0       1.0   1.0   \n",
      "2            2.0       1.0       1.0       3.0       2.0       1.0   1.0   \n",
      "3            1.0       1.0       1.0       3.0       2.0       1.0   2.0   \n",
      "4            2.0       1.0       1.0       3.0       2.0       1.0   2.0   \n",
      "...          ...       ...       ...       ...       ...       ...   ...   \n",
      "224995       2.0       1.0       1.0       3.0       1.0       1.0   1.0   \n",
      "224996       2.0       1.0       1.0       3.0       2.0       1.0   1.0   \n",
      "224997       2.0       1.0       1.0       3.0       2.0       2.0   1.0   \n",
      "224998       1.0       1.0       1.0       3.0       1.0       1.0   1.0   \n",
      "224999       1.0       1.0       1.0       3.0       1.0       1.0   1.0   \n",
      "\n",
      "        _AGEG5YR  TARGET  \n",
      "0           13.0   False  \n",
      "1            5.0   False  \n",
      "2            3.0   False  \n",
      "3            7.0   False  \n",
      "4            4.0   False  \n",
      "...          ...     ...  \n",
      "224995      11.0    True  \n",
      "224996       9.0   False  \n",
      "224997       7.0   False  \n",
      "224998       8.0   False  \n",
      "224999      13.0   False  \n",
      "\n",
      "[370132 rows x 16 columns]\n"
     ]
    }
   ],
   "source": [
    "# 1. Charger le fichier train.csv\n",
    "\n",
    "ex = pd.read_csv('extra.csv')\n",
    "train = pd.read_csv('train.csv')\n",
    "\n",
    "train_data = pd.concat([ex, train])\n",
    "\n",
    "# Colonnes d'intérêt\n",
    "columns = [\"_RFHLTH\", \"_PHYS14D\", \"_MENT14D\", \"_HLTHPLN\", \"_TOTINDA\", \"_EXTETH3\", \"_ALTETH3\", \"_DENVST3\", \"_LTASTH1\", \n",
    "           \"_CASTHM1\", \"_ASTHMS1\", \"_DRDXAR2\", \"_RACEPR1\", \"_SEX\", \"_AGEG5YR\", \"TARGET\"]\n",
    "\n",
    "# Extraction des colonnes\n",
    "train_data = train_data[columns]\n",
    "print(train_data)"
   ]
  },
  {
   "cell_type": "code",
   "execution_count": 14,
   "id": "9bfc03f4-26ab-44b7-b902-333902071ecc",
   "metadata": {},
   "outputs": [],
   "source": [
    "# 2. Nettoyage des données : remplacer les NaN par la moyenne (ou une autre stratégie)\n",
    "imputer = SimpleImputer(strategy='mean')  # Utiliser la moyenne pour les valeurs manquantes\n",
    "train_data_cleaned = pd.DataFrame(imputer.fit_transform(train_data), columns=columns)\n",
    "\n",
    "# Séparer les données en variables explicatives (X) et cible (y)\n",
    "X = train_data_cleaned.drop(\"TARGET\", axis=1)\n",
    "y = train_data_cleaned[\"TARGET\"]\n",
    "\n",
    "# Diviser en ensemble d'entraînement et de validation\n",
    "X_train, X_val, y_train, y_val = train_test_split(X, y, test_size=0.2, random_state=42)"
   ]
  },
  {
   "cell_type": "code",
   "execution_count": 15,
   "id": "1b3368ef-12bf-4f8b-b2b1-2c3018d78085",
   "metadata": {},
   "outputs": [
    {
     "name": "stdout",
     "output_type": "stream",
     "text": [
      "Accuracy sur l'ensemble de validation: 0.13\n"
     ]
    }
   ],
   "source": [
    "# 3. Entraîner un modèle (Random Forest Classifier)\n",
    "model = RandomForestClassifier(n_estimators=200,random_state=42)\n",
    "model.fit(X_train, y_train)\n",
    "\n",
    "# Évaluer le modèle sur l'ensemble de validation\n",
    "y_pred = model.predict(X_val)\n",
    "accuracy = f1_score(y_val, y_pred)\n",
    "print(f\"Accuracy sur l'ensemble de validation: {accuracy:.2f}\")"
   ]
  },
  {
   "cell_type": "code",
   "execution_count": 32,
   "id": "d5396b71-f765-4917-aaa9-027f76dfd7c5",
   "metadata": {},
   "outputs": [],
   "source": [
    "# 4. Charger le fichier test.csv\n",
    "\n",
    "test_data = pd.read_csv('test.csv')\n",
    "\n",
    "# Conserver uniquement les colonnes d'intérêt\n",
    "columns_test = [\"_RFHLTH\", \"_PHYS14D\", \"_MENT14D\", \"_HLTHPLN\", \"_TOTINDA\", \"_EXTETH3\", \"_ALTETH3\", \"_DENVST3\", \"_LTASTH1\", \n",
    "           \"_CASTHM1\", \"_ASTHMS1\", \"_DRDXAR2\", \"_RACEPR1\", \"_SEX\", \"_AGEG5YR\", \"ID\"]\n",
    "test_data = test_data[columns_test]\n",
    "\n",
    "# Nettoyer les données (remplacer les NaN)\n",
    "test_data_cleaned = test_data.drop(\"ID\", axis=1)\n",
    "imputer = SimpleImputer(strategy='mean')  # Utiliser la moyenne pour les valeurs manquantes\n",
    "test_data_cleaned = pd.DataFrame(imputer.fit_transform(test_data_cleaned), columns=columns_test[:-1])"
   ]
  },
  {
   "cell_type": "code",
   "execution_count": 33,
   "id": "944cc3b3-30a7-4b2c-b0a4-63da4605a77f",
   "metadata": {},
   "outputs": [
    {
     "name": "stdout",
     "output_type": "stream",
     "text": [
      "Les prédictions ont été enregistrées dans le fichier prediction.csv.\n"
     ]
    }
   ],
   "source": [
    "# 5. Effectuer les prédictions\n",
    "test_predictions = model.predict(test_data_cleaned)\n",
    "\n",
    "# Ajouter les prédictions au dataframe original\n",
    "test_data[\"TARGET\"] = test_predictions\n",
    "\n",
    "# Exporter les résultats dans un fichier prediction.csv\n",
    "output_file = 'prediction.csv'\n",
    "test_data[[\"ID\", \"TARGET\"]].to_csv(output_file, index=False)\n",
    "\n",
    "print(f\"Les prédictions ont été enregistrées dans le fichier {output_file}.\")"
   ]
  }
 ],
 "metadata": {
  "kernelspec": {
   "display_name": "BE STATS TC1A",
   "language": "python",
   "name": "be_stats"
  },
  "language_info": {
   "codemirror_mode": {
    "name": "ipython",
    "version": 3
   },
   "file_extension": ".py",
   "mimetype": "text/x-python",
   "name": "python",
   "nbconvert_exporter": "python",
   "pygments_lexer": "ipython3",
   "version": "3.9.7"
  }
 },
 "nbformat": 4,
 "nbformat_minor": 5
}
